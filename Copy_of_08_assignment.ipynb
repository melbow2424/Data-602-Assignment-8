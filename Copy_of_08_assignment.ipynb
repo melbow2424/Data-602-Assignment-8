{
  "nbformat": 4,
  "nbformat_minor": 0,
  "metadata": {
    "colab": {
      "provenance": [],
      "collapsed_sections": [],
      "include_colab_link": true
    },
    "kernelspec": {
      "name": "python3",
      "display_name": "Python 3"
    }
  },
  "cells": [
    {
      "cell_type": "markdown",
      "metadata": {
        "id": "view-in-github",
        "colab_type": "text"
      },
      "source": [
        "<a href=\"https://colab.research.google.com/github/melbow2424/Data-602-Assignment-8/blob/main/Copy_of_08_assignment.ipynb\" target=\"_parent\"><img src=\"https://colab.research.google.com/assets/colab-badge.svg\" alt=\"Open In Colab\"/></a>"
      ]
    },
    {
      "cell_type": "markdown",
      "metadata": {
        "id": "rd2QZetSDszc"
      },
      "source": [
        "# **Assignment 8**\n",
        "\n",
        "# **Weeks 10 & 11 - matplotlib & seaborn**\n",
        "* In this homework assignment, you will explore and analyze a public dataset of your choosing. Since this assignment is “open-ended” in nature, you are free to expand upon the requirements below. However, you must meet the minimum requirments as indicated in each section. \n",
        "\n",
        "\n",
        "* The preferred method for this analysis is in a .ipynb file. Feel free to use whichever platform of your choosing.  \n",
        "\n",
        "\n",
        "### **Some data examples:**\n",
        "•\thttps://www.data.gov/\n",
        "\n",
        "•\thttps://opendata.cityofnewyork.us/\n",
        "\n",
        "•\thttps://datasetsearch.research.google.com/\n",
        "\n",
        "•\thttps://archive.ics.uci.edu/ml/index.php\n",
        "\n",
        "### **Resources:**\n",
        "\n",
        "•\thttps://pandas.pydata.org/pandas-docs/stable/getting_started/10min.html \n",
        "\n",
        "•\thttps://www.oreilly.com/library/view/python-data-science/9781491912126/ch04.html\n",
        "\n",
        "•\thttps://www.data-to-viz.com/\n",
        "\n",
        "\n",
        "\n",
        "### **Headings or comments**\n",
        "**You are required to make use of comments, or headings for each section.  You must explain what your code is doing, and the results of running your code.**  Act as if you were giving this assignment to your manager - you must include clear and descriptive information for each section.\n",
        "\n",
        "### **You may work as a group or indivdually on this assignment.**\n"
      ]
    },
    {
      "cell_type": "markdown",
      "metadata": {
        "id": "uW3w6p8rqgxu"
      },
      "source": [
        "# Introduction\n",
        "\n",
        "In this section, please describe the dataset you are using.  Include a link to the source of this data.  You should also provide some explanation on why you choose this dataset."
      ]
    },
    {
      "cell_type": "markdown",
      "metadata": {
        "id": "L0PnfMOFzOXz"
      },
      "source": []
    },
    {
      "cell_type": "markdown",
      "metadata": {
        "id": "3bp8cdDxDs2t"
      },
      "source": [
        "______________\n",
        "# Data Exploration\n",
        "Import your dataset into your .ipynb, create dataframes, and explore your data.  \n",
        "\n",
        "Include: \n",
        "\n",
        "* Summary statistics means, medians, quartiles, \n",
        "* Missing value information\n",
        "* Any other relevant information about the dataset.  \n",
        "\n"
      ]
    },
    {
      "cell_type": "code",
      "source": [
        "import pandas as pd\n",
        "import numpy as np\n",
        "import matplotlib.pyplot as plt\n",
        "import seaborn as sns"
      ],
      "metadata": {
        "id": "3NUlO_ru1WqR"
      },
      "execution_count": 1,
      "outputs": []
    },
    {
      "cell_type": "code",
      "source": [
        "#reading csv Provisional COVID-19 Deaths by HHS Region, Race, and Age found from (https://catalog.data.gov/dataset/provisional-weekly-deaths-by-region-race-age-997d6)\n",
        "df = pd.read_csv('https://raw.githubusercontent.com/melbow2424/Data-602-Assignment-8/main/Provisional_COVID-19_Deaths_by_HHS_Region__Race__and_Age.csv')"
      ],
      "metadata": {
        "colab": {
          "base_uri": "https://localhost:8080/"
        },
        "id": "u1AjbiuQ3QJv",
        "outputId": "c83db4f5-e70b-4a06-aa3f-2e6cfc035a29"
      },
      "execution_count": 2,
      "outputs": [
        {
          "output_type": "stream",
          "name": "stderr",
          "text": [
            "/usr/local/lib/python3.7/dist-packages/IPython/core/interactiveshell.py:3326: DtypeWarning: Columns (7) have mixed types.Specify dtype option on import or set low_memory=False.\n",
            "  exec(code_obj, self.user_global_ns, self.user_ns)\n"
          ]
        }
      ]
    },
    {
      "cell_type": "code",
      "source": [
        "#Explore Data (Looking over Data Types)\n",
        "print(\"Data Types of The Columns in Data Frame\")\n",
        "display(df.dtypes)"
      ],
      "metadata": {
        "colab": {
          "base_uri": "https://localhost:8080/",
          "height": 312
        },
        "id": "rq3rAl-E4PKA",
        "outputId": "2c2d0924-d59a-42c3-ed78-f6bdff74769a"
      },
      "execution_count": 3,
      "outputs": [
        {
          "output_type": "stream",
          "name": "stdout",
          "text": [
            "Data Types of The Columns in Data Frame\n"
          ]
        },
        {
          "output_type": "display_data",
          "data": {
            "text/plain": [
              "Data As Of                         object\n",
              "Start Date                         object\n",
              "End Date                           object\n",
              "Group                              object\n",
              "Year                               object\n",
              "Month                             float64\n",
              "MMWR Week                         float64\n",
              "Week-Ending Date                   object\n",
              "HHS Region                         object\n",
              "Race and Hispanic Origin Group     object\n",
              "Age Group                          object\n",
              "COVID-19 Deaths                   float64\n",
              "Total Deaths                      float64\n",
              "Footnote                           object\n",
              "dtype: object"
            ]
          },
          "metadata": {}
        }
      ]
    },
    {
      "cell_type": "code",
      "source": [
        "#Figure out the shape of the data frame\n",
        "df.shape"
      ],
      "metadata": {
        "colab": {
          "base_uri": "https://localhost:8080/"
        },
        "id": "jSLRGp-AlaE-",
        "outputId": "18d29937-c323-47fd-96ba-732ec3c63d15"
      },
      "execution_count": 4,
      "outputs": [
        {
          "output_type": "execute_result",
          "data": {
            "text/plain": [
              "(146520, 14)"
            ]
          },
          "metadata": {},
          "execution_count": 4
        }
      ]
    },
    {
      "cell_type": "markdown",
      "metadata": {
        "id": "kCSLIafaEGVK"
      },
      "source": [
        "# Data Wrangling\n",
        "\n",
        "Perform data wrangling.  You are free to use your best judgment here.  If you are stuck, look at previous assignment."
      ]
    },
    {
      "cell_type": "code",
      "source": [
        "# Subsetting Data to Look at Covid Death's in the United States Only\n",
        "df_US = df.loc[df['HHS Region'] == \"United States\"] \n",
        "df_US.head()\n",
        "#df_US.shape"
      ],
      "metadata": {
        "id": "xEkLsm7g1UiZ",
        "colab": {
          "base_uri": "https://localhost:8080/",
          "height": 206
        },
        "outputId": "622a3246-eda4-4a01-cea2-769fb78d867b"
      },
      "execution_count": 5,
      "outputs": [
        {
          "output_type": "execute_result",
          "data": {
            "text/plain": [
              "   Data As Of  Start Date    End Date    Group       Year  Month  MMWR Week  \\\n",
              "0  10/26/2022  12/29/2019  01/04/2020  By Week  2019/2020    NaN        1.0   \n",
              "1  10/26/2022  12/29/2019  01/04/2020  By Week  2019/2020    NaN        1.0   \n",
              "2  10/26/2022  12/29/2019  01/04/2020  By Week  2019/2020    NaN        1.0   \n",
              "3  10/26/2022  12/29/2019  01/04/2020  By Week  2019/2020    NaN        1.0   \n",
              "4  10/26/2022  12/29/2019  01/04/2020  By Week  2019/2020    NaN        1.0   \n",
              "\n",
              "  Week-Ending Date     HHS Region Race and Hispanic Origin Group    Age Group  \\\n",
              "0       01/04/2020  United States                       Hispanic    0-4 years   \n",
              "1       01/04/2020  United States                       Hispanic   5-17 years   \n",
              "2       01/04/2020  United States                       Hispanic  18-29 years   \n",
              "3       01/04/2020  United States                       Hispanic  30-39 years   \n",
              "4       01/04/2020  United States                       Hispanic  40-49 years   \n",
              "\n",
              "   COVID-19 Deaths  Total Deaths Footnote  \n",
              "0              0.0         104.0      NaN  \n",
              "1              0.0          41.0      NaN  \n",
              "2              0.0         190.0      NaN  \n",
              "3              0.0         237.0      NaN  \n",
              "4              0.0         325.0      NaN  "
            ],
            "text/html": [
              "\n",
              "  <div id=\"df-a7169833-9c07-4158-a3d3-5eca503a98f5\">\n",
              "    <div class=\"colab-df-container\">\n",
              "      <div>\n",
              "<style scoped>\n",
              "    .dataframe tbody tr th:only-of-type {\n",
              "        vertical-align: middle;\n",
              "    }\n",
              "\n",
              "    .dataframe tbody tr th {\n",
              "        vertical-align: top;\n",
              "    }\n",
              "\n",
              "    .dataframe thead th {\n",
              "        text-align: right;\n",
              "    }\n",
              "</style>\n",
              "<table border=\"1\" class=\"dataframe\">\n",
              "  <thead>\n",
              "    <tr style=\"text-align: right;\">\n",
              "      <th></th>\n",
              "      <th>Data As Of</th>\n",
              "      <th>Start Date</th>\n",
              "      <th>End Date</th>\n",
              "      <th>Group</th>\n",
              "      <th>Year</th>\n",
              "      <th>Month</th>\n",
              "      <th>MMWR Week</th>\n",
              "      <th>Week-Ending Date</th>\n",
              "      <th>HHS Region</th>\n",
              "      <th>Race and Hispanic Origin Group</th>\n",
              "      <th>Age Group</th>\n",
              "      <th>COVID-19 Deaths</th>\n",
              "      <th>Total Deaths</th>\n",
              "      <th>Footnote</th>\n",
              "    </tr>\n",
              "  </thead>\n",
              "  <tbody>\n",
              "    <tr>\n",
              "      <th>0</th>\n",
              "      <td>10/26/2022</td>\n",
              "      <td>12/29/2019</td>\n",
              "      <td>01/04/2020</td>\n",
              "      <td>By Week</td>\n",
              "      <td>2019/2020</td>\n",
              "      <td>NaN</td>\n",
              "      <td>1.0</td>\n",
              "      <td>01/04/2020</td>\n",
              "      <td>United States</td>\n",
              "      <td>Hispanic</td>\n",
              "      <td>0-4 years</td>\n",
              "      <td>0.0</td>\n",
              "      <td>104.0</td>\n",
              "      <td>NaN</td>\n",
              "    </tr>\n",
              "    <tr>\n",
              "      <th>1</th>\n",
              "      <td>10/26/2022</td>\n",
              "      <td>12/29/2019</td>\n",
              "      <td>01/04/2020</td>\n",
              "      <td>By Week</td>\n",
              "      <td>2019/2020</td>\n",
              "      <td>NaN</td>\n",
              "      <td>1.0</td>\n",
              "      <td>01/04/2020</td>\n",
              "      <td>United States</td>\n",
              "      <td>Hispanic</td>\n",
              "      <td>5-17 years</td>\n",
              "      <td>0.0</td>\n",
              "      <td>41.0</td>\n",
              "      <td>NaN</td>\n",
              "    </tr>\n",
              "    <tr>\n",
              "      <th>2</th>\n",
              "      <td>10/26/2022</td>\n",
              "      <td>12/29/2019</td>\n",
              "      <td>01/04/2020</td>\n",
              "      <td>By Week</td>\n",
              "      <td>2019/2020</td>\n",
              "      <td>NaN</td>\n",
              "      <td>1.0</td>\n",
              "      <td>01/04/2020</td>\n",
              "      <td>United States</td>\n",
              "      <td>Hispanic</td>\n",
              "      <td>18-29 years</td>\n",
              "      <td>0.0</td>\n",
              "      <td>190.0</td>\n",
              "      <td>NaN</td>\n",
              "    </tr>\n",
              "    <tr>\n",
              "      <th>3</th>\n",
              "      <td>10/26/2022</td>\n",
              "      <td>12/29/2019</td>\n",
              "      <td>01/04/2020</td>\n",
              "      <td>By Week</td>\n",
              "      <td>2019/2020</td>\n",
              "      <td>NaN</td>\n",
              "      <td>1.0</td>\n",
              "      <td>01/04/2020</td>\n",
              "      <td>United States</td>\n",
              "      <td>Hispanic</td>\n",
              "      <td>30-39 years</td>\n",
              "      <td>0.0</td>\n",
              "      <td>237.0</td>\n",
              "      <td>NaN</td>\n",
              "    </tr>\n",
              "    <tr>\n",
              "      <th>4</th>\n",
              "      <td>10/26/2022</td>\n",
              "      <td>12/29/2019</td>\n",
              "      <td>01/04/2020</td>\n",
              "      <td>By Week</td>\n",
              "      <td>2019/2020</td>\n",
              "      <td>NaN</td>\n",
              "      <td>1.0</td>\n",
              "      <td>01/04/2020</td>\n",
              "      <td>United States</td>\n",
              "      <td>Hispanic</td>\n",
              "      <td>40-49 years</td>\n",
              "      <td>0.0</td>\n",
              "      <td>325.0</td>\n",
              "      <td>NaN</td>\n",
              "    </tr>\n",
              "  </tbody>\n",
              "</table>\n",
              "</div>\n",
              "      <button class=\"colab-df-convert\" onclick=\"convertToInteractive('df-a7169833-9c07-4158-a3d3-5eca503a98f5')\"\n",
              "              title=\"Convert this dataframe to an interactive table.\"\n",
              "              style=\"display:none;\">\n",
              "        \n",
              "  <svg xmlns=\"http://www.w3.org/2000/svg\" height=\"24px\"viewBox=\"0 0 24 24\"\n",
              "       width=\"24px\">\n",
              "    <path d=\"M0 0h24v24H0V0z\" fill=\"none\"/>\n",
              "    <path d=\"M18.56 5.44l.94 2.06.94-2.06 2.06-.94-2.06-.94-.94-2.06-.94 2.06-2.06.94zm-11 1L8.5 8.5l.94-2.06 2.06-.94-2.06-.94L8.5 2.5l-.94 2.06-2.06.94zm10 10l.94 2.06.94-2.06 2.06-.94-2.06-.94-.94-2.06-.94 2.06-2.06.94z\"/><path d=\"M17.41 7.96l-1.37-1.37c-.4-.4-.92-.59-1.43-.59-.52 0-1.04.2-1.43.59L10.3 9.45l-7.72 7.72c-.78.78-.78 2.05 0 2.83L4 21.41c.39.39.9.59 1.41.59.51 0 1.02-.2 1.41-.59l7.78-7.78 2.81-2.81c.8-.78.8-2.07 0-2.86zM5.41 20L4 18.59l7.72-7.72 1.47 1.35L5.41 20z\"/>\n",
              "  </svg>\n",
              "      </button>\n",
              "      \n",
              "  <style>\n",
              "    .colab-df-container {\n",
              "      display:flex;\n",
              "      flex-wrap:wrap;\n",
              "      gap: 12px;\n",
              "    }\n",
              "\n",
              "    .colab-df-convert {\n",
              "      background-color: #E8F0FE;\n",
              "      border: none;\n",
              "      border-radius: 50%;\n",
              "      cursor: pointer;\n",
              "      display: none;\n",
              "      fill: #1967D2;\n",
              "      height: 32px;\n",
              "      padding: 0 0 0 0;\n",
              "      width: 32px;\n",
              "    }\n",
              "\n",
              "    .colab-df-convert:hover {\n",
              "      background-color: #E2EBFA;\n",
              "      box-shadow: 0px 1px 2px rgba(60, 64, 67, 0.3), 0px 1px 3px 1px rgba(60, 64, 67, 0.15);\n",
              "      fill: #174EA6;\n",
              "    }\n",
              "\n",
              "    [theme=dark] .colab-df-convert {\n",
              "      background-color: #3B4455;\n",
              "      fill: #D2E3FC;\n",
              "    }\n",
              "\n",
              "    [theme=dark] .colab-df-convert:hover {\n",
              "      background-color: #434B5C;\n",
              "      box-shadow: 0px 1px 3px 1px rgba(0, 0, 0, 0.15);\n",
              "      filter: drop-shadow(0px 1px 2px rgba(0, 0, 0, 0.3));\n",
              "      fill: #FFFFFF;\n",
              "    }\n",
              "  </style>\n",
              "\n",
              "      <script>\n",
              "        const buttonEl =\n",
              "          document.querySelector('#df-a7169833-9c07-4158-a3d3-5eca503a98f5 button.colab-df-convert');\n",
              "        buttonEl.style.display =\n",
              "          google.colab.kernel.accessAllowed ? 'block' : 'none';\n",
              "\n",
              "        async function convertToInteractive(key) {\n",
              "          const element = document.querySelector('#df-a7169833-9c07-4158-a3d3-5eca503a98f5');\n",
              "          const dataTable =\n",
              "            await google.colab.kernel.invokeFunction('convertToInteractive',\n",
              "                                                     [key], {});\n",
              "          if (!dataTable) return;\n",
              "\n",
              "          const docLinkHtml = 'Like what you see? Visit the ' +\n",
              "            '<a target=\"_blank\" href=https://colab.research.google.com/notebooks/data_table.ipynb>data table notebook</a>'\n",
              "            + ' to learn more about interactive tables.';\n",
              "          element.innerHTML = '';\n",
              "          dataTable['output_type'] = 'display_data';\n",
              "          await google.colab.output.renderOutput(dataTable, element);\n",
              "          const docLink = document.createElement('div');\n",
              "          docLink.innerHTML = docLinkHtml;\n",
              "          element.appendChild(docLink);\n",
              "        }\n",
              "      </script>\n",
              "    </div>\n",
              "  </div>\n",
              "  "
            ]
          },
          "metadata": {},
          "execution_count": 5
        }
      ]
    },
    {
      "cell_type": "code",
      "source": [
        "# Subsetting Data to Look at Covid Death's in the United States in 2021 Only\n",
        "df_US_2021=df_US[(df_US['Year'] == \"2021\" ) | (df_US['Year'] == '2020/2021')]\n",
        "df_US_2021.head()\n",
        "#df_US_2021.shape"
      ],
      "metadata": {
        "colab": {
          "base_uri": "https://localhost:8080/",
          "height": 206
        },
        "id": "2UfnuOuJm0dH",
        "outputId": "ca71eafa-08fc-4c79-cf97-7ca083ea81c2"
      },
      "execution_count": 6,
      "outputs": [
        {
          "output_type": "execute_result",
          "data": {
            "text/plain": [
              "      Data As Of  Start Date    End Date    Group       Year  Month  \\\n",
              "3744  10/26/2022  12/27/2020  01/02/2021  By Week  2020/2021    NaN   \n",
              "3745  10/26/2022  12/27/2020  01/02/2021  By Week  2020/2021    NaN   \n",
              "3746  10/26/2022  12/27/2020  01/02/2021  By Week  2020/2021    NaN   \n",
              "3747  10/26/2022  12/27/2020  01/02/2021  By Week  2020/2021    NaN   \n",
              "3748  10/26/2022  12/27/2020  01/02/2021  By Week  2020/2021    NaN   \n",
              "\n",
              "      MMWR Week Week-Ending Date     HHS Region  \\\n",
              "3744       53.0       01/02/2021  United States   \n",
              "3745       53.0       01/02/2021  United States   \n",
              "3746       53.0       01/02/2021  United States   \n",
              "3747       53.0       01/02/2021  United States   \n",
              "3748       53.0       01/02/2021  United States   \n",
              "\n",
              "     Race and Hispanic Origin Group    Age Group  COVID-19 Deaths  \\\n",
              "3744                       Hispanic    0-4 years              4.0   \n",
              "3745                       Hispanic   5-17 years              2.0   \n",
              "3746                       Hispanic  18-29 years             42.0   \n",
              "3747                       Hispanic  30-39 years            106.0   \n",
              "3748                       Hispanic  40-49 years            300.0   \n",
              "\n",
              "      Total Deaths Footnote  \n",
              "3744          95.0      NaN  \n",
              "3745          48.0      NaN  \n",
              "3746         293.0      NaN  \n",
              "3747         369.0      NaN  \n",
              "3748         656.0      NaN  "
            ],
            "text/html": [
              "\n",
              "  <div id=\"df-f2bd9dcc-668a-46d4-8159-f905ff23ee01\">\n",
              "    <div class=\"colab-df-container\">\n",
              "      <div>\n",
              "<style scoped>\n",
              "    .dataframe tbody tr th:only-of-type {\n",
              "        vertical-align: middle;\n",
              "    }\n",
              "\n",
              "    .dataframe tbody tr th {\n",
              "        vertical-align: top;\n",
              "    }\n",
              "\n",
              "    .dataframe thead th {\n",
              "        text-align: right;\n",
              "    }\n",
              "</style>\n",
              "<table border=\"1\" class=\"dataframe\">\n",
              "  <thead>\n",
              "    <tr style=\"text-align: right;\">\n",
              "      <th></th>\n",
              "      <th>Data As Of</th>\n",
              "      <th>Start Date</th>\n",
              "      <th>End Date</th>\n",
              "      <th>Group</th>\n",
              "      <th>Year</th>\n",
              "      <th>Month</th>\n",
              "      <th>MMWR Week</th>\n",
              "      <th>Week-Ending Date</th>\n",
              "      <th>HHS Region</th>\n",
              "      <th>Race and Hispanic Origin Group</th>\n",
              "      <th>Age Group</th>\n",
              "      <th>COVID-19 Deaths</th>\n",
              "      <th>Total Deaths</th>\n",
              "      <th>Footnote</th>\n",
              "    </tr>\n",
              "  </thead>\n",
              "  <tbody>\n",
              "    <tr>\n",
              "      <th>3744</th>\n",
              "      <td>10/26/2022</td>\n",
              "      <td>12/27/2020</td>\n",
              "      <td>01/02/2021</td>\n",
              "      <td>By Week</td>\n",
              "      <td>2020/2021</td>\n",
              "      <td>NaN</td>\n",
              "      <td>53.0</td>\n",
              "      <td>01/02/2021</td>\n",
              "      <td>United States</td>\n",
              "      <td>Hispanic</td>\n",
              "      <td>0-4 years</td>\n",
              "      <td>4.0</td>\n",
              "      <td>95.0</td>\n",
              "      <td>NaN</td>\n",
              "    </tr>\n",
              "    <tr>\n",
              "      <th>3745</th>\n",
              "      <td>10/26/2022</td>\n",
              "      <td>12/27/2020</td>\n",
              "      <td>01/02/2021</td>\n",
              "      <td>By Week</td>\n",
              "      <td>2020/2021</td>\n",
              "      <td>NaN</td>\n",
              "      <td>53.0</td>\n",
              "      <td>01/02/2021</td>\n",
              "      <td>United States</td>\n",
              "      <td>Hispanic</td>\n",
              "      <td>5-17 years</td>\n",
              "      <td>2.0</td>\n",
              "      <td>48.0</td>\n",
              "      <td>NaN</td>\n",
              "    </tr>\n",
              "    <tr>\n",
              "      <th>3746</th>\n",
              "      <td>10/26/2022</td>\n",
              "      <td>12/27/2020</td>\n",
              "      <td>01/02/2021</td>\n",
              "      <td>By Week</td>\n",
              "      <td>2020/2021</td>\n",
              "      <td>NaN</td>\n",
              "      <td>53.0</td>\n",
              "      <td>01/02/2021</td>\n",
              "      <td>United States</td>\n",
              "      <td>Hispanic</td>\n",
              "      <td>18-29 years</td>\n",
              "      <td>42.0</td>\n",
              "      <td>293.0</td>\n",
              "      <td>NaN</td>\n",
              "    </tr>\n",
              "    <tr>\n",
              "      <th>3747</th>\n",
              "      <td>10/26/2022</td>\n",
              "      <td>12/27/2020</td>\n",
              "      <td>01/02/2021</td>\n",
              "      <td>By Week</td>\n",
              "      <td>2020/2021</td>\n",
              "      <td>NaN</td>\n",
              "      <td>53.0</td>\n",
              "      <td>01/02/2021</td>\n",
              "      <td>United States</td>\n",
              "      <td>Hispanic</td>\n",
              "      <td>30-39 years</td>\n",
              "      <td>106.0</td>\n",
              "      <td>369.0</td>\n",
              "      <td>NaN</td>\n",
              "    </tr>\n",
              "    <tr>\n",
              "      <th>3748</th>\n",
              "      <td>10/26/2022</td>\n",
              "      <td>12/27/2020</td>\n",
              "      <td>01/02/2021</td>\n",
              "      <td>By Week</td>\n",
              "      <td>2020/2021</td>\n",
              "      <td>NaN</td>\n",
              "      <td>53.0</td>\n",
              "      <td>01/02/2021</td>\n",
              "      <td>United States</td>\n",
              "      <td>Hispanic</td>\n",
              "      <td>40-49 years</td>\n",
              "      <td>300.0</td>\n",
              "      <td>656.0</td>\n",
              "      <td>NaN</td>\n",
              "    </tr>\n",
              "  </tbody>\n",
              "</table>\n",
              "</div>\n",
              "      <button class=\"colab-df-convert\" onclick=\"convertToInteractive('df-f2bd9dcc-668a-46d4-8159-f905ff23ee01')\"\n",
              "              title=\"Convert this dataframe to an interactive table.\"\n",
              "              style=\"display:none;\">\n",
              "        \n",
              "  <svg xmlns=\"http://www.w3.org/2000/svg\" height=\"24px\"viewBox=\"0 0 24 24\"\n",
              "       width=\"24px\">\n",
              "    <path d=\"M0 0h24v24H0V0z\" fill=\"none\"/>\n",
              "    <path d=\"M18.56 5.44l.94 2.06.94-2.06 2.06-.94-2.06-.94-.94-2.06-.94 2.06-2.06.94zm-11 1L8.5 8.5l.94-2.06 2.06-.94-2.06-.94L8.5 2.5l-.94 2.06-2.06.94zm10 10l.94 2.06.94-2.06 2.06-.94-2.06-.94-.94-2.06-.94 2.06-2.06.94z\"/><path d=\"M17.41 7.96l-1.37-1.37c-.4-.4-.92-.59-1.43-.59-.52 0-1.04.2-1.43.59L10.3 9.45l-7.72 7.72c-.78.78-.78 2.05 0 2.83L4 21.41c.39.39.9.59 1.41.59.51 0 1.02-.2 1.41-.59l7.78-7.78 2.81-2.81c.8-.78.8-2.07 0-2.86zM5.41 20L4 18.59l7.72-7.72 1.47 1.35L5.41 20z\"/>\n",
              "  </svg>\n",
              "      </button>\n",
              "      \n",
              "  <style>\n",
              "    .colab-df-container {\n",
              "      display:flex;\n",
              "      flex-wrap:wrap;\n",
              "      gap: 12px;\n",
              "    }\n",
              "\n",
              "    .colab-df-convert {\n",
              "      background-color: #E8F0FE;\n",
              "      border: none;\n",
              "      border-radius: 50%;\n",
              "      cursor: pointer;\n",
              "      display: none;\n",
              "      fill: #1967D2;\n",
              "      height: 32px;\n",
              "      padding: 0 0 0 0;\n",
              "      width: 32px;\n",
              "    }\n",
              "\n",
              "    .colab-df-convert:hover {\n",
              "      background-color: #E2EBFA;\n",
              "      box-shadow: 0px 1px 2px rgba(60, 64, 67, 0.3), 0px 1px 3px 1px rgba(60, 64, 67, 0.15);\n",
              "      fill: #174EA6;\n",
              "    }\n",
              "\n",
              "    [theme=dark] .colab-df-convert {\n",
              "      background-color: #3B4455;\n",
              "      fill: #D2E3FC;\n",
              "    }\n",
              "\n",
              "    [theme=dark] .colab-df-convert:hover {\n",
              "      background-color: #434B5C;\n",
              "      box-shadow: 0px 1px 3px 1px rgba(0, 0, 0, 0.15);\n",
              "      filter: drop-shadow(0px 1px 2px rgba(0, 0, 0, 0.3));\n",
              "      fill: #FFFFFF;\n",
              "    }\n",
              "  </style>\n",
              "\n",
              "      <script>\n",
              "        const buttonEl =\n",
              "          document.querySelector('#df-f2bd9dcc-668a-46d4-8159-f905ff23ee01 button.colab-df-convert');\n",
              "        buttonEl.style.display =\n",
              "          google.colab.kernel.accessAllowed ? 'block' : 'none';\n",
              "\n",
              "        async function convertToInteractive(key) {\n",
              "          const element = document.querySelector('#df-f2bd9dcc-668a-46d4-8159-f905ff23ee01');\n",
              "          const dataTable =\n",
              "            await google.colab.kernel.invokeFunction('convertToInteractive',\n",
              "                                                     [key], {});\n",
              "          if (!dataTable) return;\n",
              "\n",
              "          const docLinkHtml = 'Like what you see? Visit the ' +\n",
              "            '<a target=\"_blank\" href=https://colab.research.google.com/notebooks/data_table.ipynb>data table notebook</a>'\n",
              "            + ' to learn more about interactive tables.';\n",
              "          element.innerHTML = '';\n",
              "          dataTable['output_type'] = 'display_data';\n",
              "          await google.colab.output.renderOutput(dataTable, element);\n",
              "          const docLink = document.createElement('div');\n",
              "          docLink.innerHTML = docLinkHtml;\n",
              "          element.appendChild(docLink);\n",
              "        }\n",
              "      </script>\n",
              "    </div>\n",
              "  </div>\n",
              "  "
            ]
          },
          "metadata": {},
          "execution_count": 6
        }
      ]
    },
    {
      "cell_type": "code",
      "source": [
        "#Summing Covid Death by Week\n",
        "df_US_2021_byweek = df_US_2021.groupby(\"MMWR Week\").agg({\"COVID-19 Deaths\":'sum'})\n",
        "#df_US_2021_byweek.head()\n",
        "df_US_2021_byweek.shape"
      ],
      "metadata": {
        "colab": {
          "base_uri": "https://localhost:8080/"
        },
        "id": "qJMb_HLcxoG0",
        "outputId": "339ae7e3-6ec3-435c-c384-c8849fa8f39c"
      },
      "execution_count": 7,
      "outputs": [
        {
          "output_type": "execute_result",
          "data": {
            "text/plain": [
              "(52, 1)"
            ]
          },
          "metadata": {},
          "execution_count": 7
        }
      ]
    },
    {
      "cell_type": "code",
      "source": [
        "# Changing names in Race and Hispanic Origin Group column to make bar graph easier to read\n",
        "df_US_2021['Race and Hispanic Origin Group'].mask(df_US_2021['Race and Hispanic Origin Group'] == 'Non-Hispanic Black', 'Black', inplace=True)\n",
        "df_US_2021['Race and Hispanic Origin Group'].mask(df_US_2021['Race and Hispanic Origin Group'] == 'Non-Hispanic American Indian or Alaska Native', 'American Indian', inplace=True)\n",
        "df_US_2021['Race and Hispanic Origin Group'].mask(df_US_2021['Race and Hispanic Origin Group'] == 'Non-Hispanic Asian', 'Asian', inplace=True)\n",
        "df_US_2021['Race and Hispanic Origin Group'].mask(df_US_2021['Race and Hispanic Origin Group'] == 'Non-Hispanic More than one race', 'More than one race', inplace=True)\n",
        "df_US_2021['Race and Hispanic Origin Group'].mask(df_US_2021['Race and Hispanic Origin Group'] == 'Non-Hispanic Native Hawaiian or Other Pacific Islander', 'Native Hawaiian', inplace=True)\n",
        "df_US_2021['Race and Hispanic Origin Group'].mask(df_US_2021['Race and Hispanic Origin Group'] == 'Non-Hispanic White', 'White', inplace=True)\n",
        "# Get the unique values of column\n",
        "df_US_2021['Race and Hispanic Origin Group'].unique()"
      ],
      "metadata": {
        "colab": {
          "base_uri": "https://localhost:8080/"
        },
        "id": "mlRSMV_ZMU4p",
        "outputId": "a404a285-21c5-4c4b-db42-5b82c7f94c48"
      },
      "execution_count": 9,
      "outputs": [
        {
          "output_type": "execute_result",
          "data": {
            "text/plain": [
              "array(['Hispanic', 'American Indian', 'Asian', 'Black',\n",
              "       'More than one race', 'Native Hawaiian', 'White', 'Unknown'],\n",
              "      dtype=object)"
            ]
          },
          "metadata": {},
          "execution_count": 9
        }
      ]
    },
    {
      "cell_type": "code",
      "source": [
        "#Summing Covid Death by Race and Hispanic Origin Group\n",
        "df_US_2021_byorigin = df_US_2021.groupby(\"Race and Hispanic Origin Group\").agg({\"COVID-19 Deaths\":'sum'})\n",
        "df_US_2021_byorigin.sort_values(by=['COVID-19 Deaths'], inplace=True)\n",
        "df_US_2021_byorigin\n",
        "#df_US_2021_byorigin.shape"
      ],
      "metadata": {
        "colab": {
          "base_uri": "https://localhost:8080/",
          "height": 331
        },
        "id": "cU4DNz4fH8vH",
        "outputId": "8a1c34af-27c6-47ea-a532-922ca447bea3"
      },
      "execution_count": 10,
      "outputs": [
        {
          "output_type": "execute_result",
          "data": {
            "text/plain": [
              "                                COVID-19 Deaths\n",
              "Race and Hispanic Origin Group                 \n",
              "Unknown                                  2471.0\n",
              "Native Hawaiian                          3571.0\n",
              "More than one race                       6098.0\n",
              "American Indian                         15268.0\n",
              "Asian                                   41892.0\n",
              "Black                                  186832.0\n",
              "Hispanic                               222454.0\n",
              "White                                  918760.0"
            ],
            "text/html": [
              "\n",
              "  <div id=\"df-e8a4589e-5733-4cda-9843-0ae2d4c1293c\">\n",
              "    <div class=\"colab-df-container\">\n",
              "      <div>\n",
              "<style scoped>\n",
              "    .dataframe tbody tr th:only-of-type {\n",
              "        vertical-align: middle;\n",
              "    }\n",
              "\n",
              "    .dataframe tbody tr th {\n",
              "        vertical-align: top;\n",
              "    }\n",
              "\n",
              "    .dataframe thead th {\n",
              "        text-align: right;\n",
              "    }\n",
              "</style>\n",
              "<table border=\"1\" class=\"dataframe\">\n",
              "  <thead>\n",
              "    <tr style=\"text-align: right;\">\n",
              "      <th></th>\n",
              "      <th>COVID-19 Deaths</th>\n",
              "    </tr>\n",
              "    <tr>\n",
              "      <th>Race and Hispanic Origin Group</th>\n",
              "      <th></th>\n",
              "    </tr>\n",
              "  </thead>\n",
              "  <tbody>\n",
              "    <tr>\n",
              "      <th>Unknown</th>\n",
              "      <td>2471.0</td>\n",
              "    </tr>\n",
              "    <tr>\n",
              "      <th>Native Hawaiian</th>\n",
              "      <td>3571.0</td>\n",
              "    </tr>\n",
              "    <tr>\n",
              "      <th>More than one race</th>\n",
              "      <td>6098.0</td>\n",
              "    </tr>\n",
              "    <tr>\n",
              "      <th>American Indian</th>\n",
              "      <td>15268.0</td>\n",
              "    </tr>\n",
              "    <tr>\n",
              "      <th>Asian</th>\n",
              "      <td>41892.0</td>\n",
              "    </tr>\n",
              "    <tr>\n",
              "      <th>Black</th>\n",
              "      <td>186832.0</td>\n",
              "    </tr>\n",
              "    <tr>\n",
              "      <th>Hispanic</th>\n",
              "      <td>222454.0</td>\n",
              "    </tr>\n",
              "    <tr>\n",
              "      <th>White</th>\n",
              "      <td>918760.0</td>\n",
              "    </tr>\n",
              "  </tbody>\n",
              "</table>\n",
              "</div>\n",
              "      <button class=\"colab-df-convert\" onclick=\"convertToInteractive('df-e8a4589e-5733-4cda-9843-0ae2d4c1293c')\"\n",
              "              title=\"Convert this dataframe to an interactive table.\"\n",
              "              style=\"display:none;\">\n",
              "        \n",
              "  <svg xmlns=\"http://www.w3.org/2000/svg\" height=\"24px\"viewBox=\"0 0 24 24\"\n",
              "       width=\"24px\">\n",
              "    <path d=\"M0 0h24v24H0V0z\" fill=\"none\"/>\n",
              "    <path d=\"M18.56 5.44l.94 2.06.94-2.06 2.06-.94-2.06-.94-.94-2.06-.94 2.06-2.06.94zm-11 1L8.5 8.5l.94-2.06 2.06-.94-2.06-.94L8.5 2.5l-.94 2.06-2.06.94zm10 10l.94 2.06.94-2.06 2.06-.94-2.06-.94-.94-2.06-.94 2.06-2.06.94z\"/><path d=\"M17.41 7.96l-1.37-1.37c-.4-.4-.92-.59-1.43-.59-.52 0-1.04.2-1.43.59L10.3 9.45l-7.72 7.72c-.78.78-.78 2.05 0 2.83L4 21.41c.39.39.9.59 1.41.59.51 0 1.02-.2 1.41-.59l7.78-7.78 2.81-2.81c.8-.78.8-2.07 0-2.86zM5.41 20L4 18.59l7.72-7.72 1.47 1.35L5.41 20z\"/>\n",
              "  </svg>\n",
              "      </button>\n",
              "      \n",
              "  <style>\n",
              "    .colab-df-container {\n",
              "      display:flex;\n",
              "      flex-wrap:wrap;\n",
              "      gap: 12px;\n",
              "    }\n",
              "\n",
              "    .colab-df-convert {\n",
              "      background-color: #E8F0FE;\n",
              "      border: none;\n",
              "      border-radius: 50%;\n",
              "      cursor: pointer;\n",
              "      display: none;\n",
              "      fill: #1967D2;\n",
              "      height: 32px;\n",
              "      padding: 0 0 0 0;\n",
              "      width: 32px;\n",
              "    }\n",
              "\n",
              "    .colab-df-convert:hover {\n",
              "      background-color: #E2EBFA;\n",
              "      box-shadow: 0px 1px 2px rgba(60, 64, 67, 0.3), 0px 1px 3px 1px rgba(60, 64, 67, 0.15);\n",
              "      fill: #174EA6;\n",
              "    }\n",
              "\n",
              "    [theme=dark] .colab-df-convert {\n",
              "      background-color: #3B4455;\n",
              "      fill: #D2E3FC;\n",
              "    }\n",
              "\n",
              "    [theme=dark] .colab-df-convert:hover {\n",
              "      background-color: #434B5C;\n",
              "      box-shadow: 0px 1px 3px 1px rgba(0, 0, 0, 0.15);\n",
              "      filter: drop-shadow(0px 1px 2px rgba(0, 0, 0, 0.3));\n",
              "      fill: #FFFFFF;\n",
              "    }\n",
              "  </style>\n",
              "\n",
              "      <script>\n",
              "        const buttonEl =\n",
              "          document.querySelector('#df-e8a4589e-5733-4cda-9843-0ae2d4c1293c button.colab-df-convert');\n",
              "        buttonEl.style.display =\n",
              "          google.colab.kernel.accessAllowed ? 'block' : 'none';\n",
              "\n",
              "        async function convertToInteractive(key) {\n",
              "          const element = document.querySelector('#df-e8a4589e-5733-4cda-9843-0ae2d4c1293c');\n",
              "          const dataTable =\n",
              "            await google.colab.kernel.invokeFunction('convertToInteractive',\n",
              "                                                     [key], {});\n",
              "          if (!dataTable) return;\n",
              "\n",
              "          const docLinkHtml = 'Like what you see? Visit the ' +\n",
              "            '<a target=\"_blank\" href=https://colab.research.google.com/notebooks/data_table.ipynb>data table notebook</a>'\n",
              "            + ' to learn more about interactive tables.';\n",
              "          element.innerHTML = '';\n",
              "          dataTable['output_type'] = 'display_data';\n",
              "          await google.colab.output.renderOutput(dataTable, element);\n",
              "          const docLink = document.createElement('div');\n",
              "          docLink.innerHTML = docLinkHtml;\n",
              "          element.appendChild(docLink);\n",
              "        }\n",
              "      </script>\n",
              "    </div>\n",
              "  </div>\n",
              "  "
            ]
          },
          "metadata": {},
          "execution_count": 10
        }
      ]
    },
    {
      "cell_type": "code",
      "source": [
        "# consider the list\n",
        "list1 = [2471.0, 3571.0 , 6098.0]\n",
        "  \n",
        "# drop rows from above list\n",
        "df_US_2021_byorigin = df_US_2021_byorigin[df_US_2021_byorigin[\"COVID-19 Deaths\"].isin(list1) == False]\n",
        "df_US_2021_byorigin\n",
        "#df_US_2021_byorigin.shape "
      ],
      "metadata": {
        "colab": {
          "base_uri": "https://localhost:8080/",
          "height": 237
        },
        "id": "nYYZ8lqRmQTR",
        "outputId": "dbaf158a-2340-4a49-b4b6-b42c508d4ae1"
      },
      "execution_count": 11,
      "outputs": [
        {
          "output_type": "execute_result",
          "data": {
            "text/plain": [
              "                                COVID-19 Deaths\n",
              "Race and Hispanic Origin Group                 \n",
              "American Indian                         15268.0\n",
              "Asian                                   41892.0\n",
              "Black                                  186832.0\n",
              "Hispanic                               222454.0\n",
              "White                                  918760.0"
            ],
            "text/html": [
              "\n",
              "  <div id=\"df-1e85f63b-e31a-4626-b0ba-74a5b21a1d03\">\n",
              "    <div class=\"colab-df-container\">\n",
              "      <div>\n",
              "<style scoped>\n",
              "    .dataframe tbody tr th:only-of-type {\n",
              "        vertical-align: middle;\n",
              "    }\n",
              "\n",
              "    .dataframe tbody tr th {\n",
              "        vertical-align: top;\n",
              "    }\n",
              "\n",
              "    .dataframe thead th {\n",
              "        text-align: right;\n",
              "    }\n",
              "</style>\n",
              "<table border=\"1\" class=\"dataframe\">\n",
              "  <thead>\n",
              "    <tr style=\"text-align: right;\">\n",
              "      <th></th>\n",
              "      <th>COVID-19 Deaths</th>\n",
              "    </tr>\n",
              "    <tr>\n",
              "      <th>Race and Hispanic Origin Group</th>\n",
              "      <th></th>\n",
              "    </tr>\n",
              "  </thead>\n",
              "  <tbody>\n",
              "    <tr>\n",
              "      <th>American Indian</th>\n",
              "      <td>15268.0</td>\n",
              "    </tr>\n",
              "    <tr>\n",
              "      <th>Asian</th>\n",
              "      <td>41892.0</td>\n",
              "    </tr>\n",
              "    <tr>\n",
              "      <th>Black</th>\n",
              "      <td>186832.0</td>\n",
              "    </tr>\n",
              "    <tr>\n",
              "      <th>Hispanic</th>\n",
              "      <td>222454.0</td>\n",
              "    </tr>\n",
              "    <tr>\n",
              "      <th>White</th>\n",
              "      <td>918760.0</td>\n",
              "    </tr>\n",
              "  </tbody>\n",
              "</table>\n",
              "</div>\n",
              "      <button class=\"colab-df-convert\" onclick=\"convertToInteractive('df-1e85f63b-e31a-4626-b0ba-74a5b21a1d03')\"\n",
              "              title=\"Convert this dataframe to an interactive table.\"\n",
              "              style=\"display:none;\">\n",
              "        \n",
              "  <svg xmlns=\"http://www.w3.org/2000/svg\" height=\"24px\"viewBox=\"0 0 24 24\"\n",
              "       width=\"24px\">\n",
              "    <path d=\"M0 0h24v24H0V0z\" fill=\"none\"/>\n",
              "    <path d=\"M18.56 5.44l.94 2.06.94-2.06 2.06-.94-2.06-.94-.94-2.06-.94 2.06-2.06.94zm-11 1L8.5 8.5l.94-2.06 2.06-.94-2.06-.94L8.5 2.5l-.94 2.06-2.06.94zm10 10l.94 2.06.94-2.06 2.06-.94-2.06-.94-.94-2.06-.94 2.06-2.06.94z\"/><path d=\"M17.41 7.96l-1.37-1.37c-.4-.4-.92-.59-1.43-.59-.52 0-1.04.2-1.43.59L10.3 9.45l-7.72 7.72c-.78.78-.78 2.05 0 2.83L4 21.41c.39.39.9.59 1.41.59.51 0 1.02-.2 1.41-.59l7.78-7.78 2.81-2.81c.8-.78.8-2.07 0-2.86zM5.41 20L4 18.59l7.72-7.72 1.47 1.35L5.41 20z\"/>\n",
              "  </svg>\n",
              "      </button>\n",
              "      \n",
              "  <style>\n",
              "    .colab-df-container {\n",
              "      display:flex;\n",
              "      flex-wrap:wrap;\n",
              "      gap: 12px;\n",
              "    }\n",
              "\n",
              "    .colab-df-convert {\n",
              "      background-color: #E8F0FE;\n",
              "      border: none;\n",
              "      border-radius: 50%;\n",
              "      cursor: pointer;\n",
              "      display: none;\n",
              "      fill: #1967D2;\n",
              "      height: 32px;\n",
              "      padding: 0 0 0 0;\n",
              "      width: 32px;\n",
              "    }\n",
              "\n",
              "    .colab-df-convert:hover {\n",
              "      background-color: #E2EBFA;\n",
              "      box-shadow: 0px 1px 2px rgba(60, 64, 67, 0.3), 0px 1px 3px 1px rgba(60, 64, 67, 0.15);\n",
              "      fill: #174EA6;\n",
              "    }\n",
              "\n",
              "    [theme=dark] .colab-df-convert {\n",
              "      background-color: #3B4455;\n",
              "      fill: #D2E3FC;\n",
              "    }\n",
              "\n",
              "    [theme=dark] .colab-df-convert:hover {\n",
              "      background-color: #434B5C;\n",
              "      box-shadow: 0px 1px 3px 1px rgba(0, 0, 0, 0.15);\n",
              "      filter: drop-shadow(0px 1px 2px rgba(0, 0, 0, 0.3));\n",
              "      fill: #FFFFFF;\n",
              "    }\n",
              "  </style>\n",
              "\n",
              "      <script>\n",
              "        const buttonEl =\n",
              "          document.querySelector('#df-1e85f63b-e31a-4626-b0ba-74a5b21a1d03 button.colab-df-convert');\n",
              "        buttonEl.style.display =\n",
              "          google.colab.kernel.accessAllowed ? 'block' : 'none';\n",
              "\n",
              "        async function convertToInteractive(key) {\n",
              "          const element = document.querySelector('#df-1e85f63b-e31a-4626-b0ba-74a5b21a1d03');\n",
              "          const dataTable =\n",
              "            await google.colab.kernel.invokeFunction('convertToInteractive',\n",
              "                                                     [key], {});\n",
              "          if (!dataTable) return;\n",
              "\n",
              "          const docLinkHtml = 'Like what you see? Visit the ' +\n",
              "            '<a target=\"_blank\" href=https://colab.research.google.com/notebooks/data_table.ipynb>data table notebook</a>'\n",
              "            + ' to learn more about interactive tables.';\n",
              "          element.innerHTML = '';\n",
              "          dataTable['output_type'] = 'display_data';\n",
              "          await google.colab.output.renderOutput(dataTable, element);\n",
              "          const docLink = document.createElement('div');\n",
              "          docLink.innerHTML = docLinkHtml;\n",
              "          element.appendChild(docLink);\n",
              "        }\n",
              "      </script>\n",
              "    </div>\n",
              "  </div>\n",
              "  "
            ]
          },
          "metadata": {},
          "execution_count": 11
        }
      ]
    },
    {
      "cell_type": "markdown",
      "source": [
        "# Visualizations\n",
        "\n",
        "The main purpose of this assignment is to practice creating various visualizations using the matplotlib and seaborn library.\n",
        "\n",
        "### **Part 1:**\n",
        "Using matplotlib, create ***two or more plots*** that incorporate at least **5** of the following properties:\n",
        "\n",
        "Note: these properties vary based on your data.  The goal is to practice creating visualizations and modifying its properties. \n",
        "\n",
        "*   Use and change a legend position\n",
        "*   Change a legend font size\n",
        "*   Place a legend outside of the plot\n",
        "*   Create a single legend for all subplots\n",
        "*   Change the title and x/y labels\n",
        "*   Change the marker, line colors, and line width\n",
        "*   Add annotations\n",
        "*   Modify Axis Text Ticks/Labels\n",
        "*   Change size of axis Labels\n",
        "*   Your own choice not included above \n",
        "\n",
        "\n",
        "Plots that you can create **include**:\n",
        "\n",
        "*   Scatter Plot\n",
        "*   Bar plot\n",
        "*   Line Chart\n",
        "*   Multi Plots (e.g. using .subplot()\n",
        "*   Histogram\n",
        "\n",
        "You can add another plot not listed here if it works better for your data.  This is not a complete list of plots to create.\n",
        "\n",
        "### **Part 2:**\n",
        "\n",
        "Recreate the visualizations above using the Seaborn library as best as possible.  \n",
        "\n",
        "\n",
        "**You are required to explain what each of your plots is representing. Plots without comments will not be accepted.**  In addition, please explain the properties you are showcasing.\n",
        "\n",
        "\n",
        "### **Part 3:**\n",
        "In a comment or text box, explain the differences between creating a plot in matplotlib and seaborn, based on your above plots.\n",
        "\n"
      ],
      "metadata": {
        "id": "uJdF3TMe_TXU"
      }
    },
    {
      "cell_type": "code",
      "metadata": {
        "id": "4VWWvvynEiQT",
        "colab": {
          "base_uri": "https://localhost:8080/",
          "height": 302
        },
        "outputId": "17f7c0c5-15a4-4ef4-f1e6-98c54956bbba"
      },
      "source": [
        "#Using Matplotlib to plot a line graph\n",
        "df_US_2021_byweek.plot(y = \"COVID-19 Deaths\",\n",
        "                       color='g',           # Changing color\n",
        "                       linewidth = 2.5,     # Changing line width\n",
        "                       legend = None)       # Adding color added a legend so it was removed \n",
        "plt.title(\"Covid-19 Death in United States 2021\", fontsize = 18)   # Adding a Title. Changing font size of title\n",
        "plt. xlabel(\"Week in 2021\", fontsize = 12)                         # Adding x-axis label. Changing font size of label\n",
        "plt. ylabel(\"Covid-19 Death Total\", fontsize = 12)                 # Adding y-axis label. Changing font size of label\n",
        "plt.show()"
      ],
      "execution_count": 12,
      "outputs": [
        {
          "output_type": "display_data",
          "data": {
            "text/plain": [
              "<Figure size 432x288 with 1 Axes>"
            ],
            "image/png": "[encoded data removed]"
          },
          "metadata": {
            "needs_background": "light"
          }
        }
      ]
    },
    {
      "cell_type": "code",
      "source": [
        "#Using Matplotlib to plot a bar graph\n",
        "df_US_2021_byorigin.plot.barh(color='tab:blue',          # Changing color \n",
        "                              width = 0.9,               # Changing width\n",
        "                              legend = None)             # Legend was removed\n",
        "plt.title(\"Covid-19 Death By Race in 2021\", fontsize = 18)   # Adding a Title. Changing font size of title\n",
        "plt. xlabel(\"Covid-19 Death Total\", fontsize = 12)           # Adding x-axis label. Changing font size of label\n",
        "plt. ylabel(\"\")                                              # Removing y-axis label. \n",
        "# Add x, y gridlines\n",
        "plt.grid(b = True, color ='grey',\n",
        "        linestyle ='-.', linewidth = 0.5,\n",
        "        alpha = 0.2)"
      ],
      "metadata": {
        "id": "N9sKmrIrDbhd",
        "colab": {
          "base_uri": "https://localhost:8080/",
          "height": 305
        },
        "outputId": "e64f2887-4511-46cc-9e96-12e1cb275421"
      },
      "execution_count": 77,
      "outputs": [
        {
          "output_type": "display_data",
          "data": {
            "text/plain": [
              "<Figure size 432x288 with 1 Axes>"
            ],
            "image/png": "[encoded data removed]"
          },
          "metadata": {}
        }
      ]
    },
    {
      "cell_type": "code",
      "source": [
        "# Catherine Cho trying to Help with bar colors but still not working \n",
        "'''\n",
        "y = df_US_2021_byorigin['Race and Hispanic Origin Group']\n",
        "width = df_US_2021_byorigin['COVID-19 Deaths']\n",
        "bar_colors = ['tab:red', 'tab:blue', 'tab:green', 'tab:orange', 'tab:purple']\n",
        "plt.barh( y, width, color = bar_colors)\n",
        "'''"
      ],
      "metadata": {
        "id": "U2jA0W8bNt6s"
      },
      "execution_count": null,
      "outputs": []
    },
    {
      "cell_type": "code",
      "source": [
        "#Using Seaborn to plot a line graph (Comparing it to the Matplotlib graph)\n",
        "sns.set_theme(style=\"darkgrid\")               # Sets background theme\n",
        "ax = sns.lineplot(x = \"MMWR Week\" ,           # Calls x values\n",
        "                  y = \"COVID-19 Deaths\",      # Calls y values\n",
        "                  data = df_US_2021_byweek,   # Calls dataframe being used\n",
        "                  color = 'g',                # Changes Colors\n",
        "                  linewidth = 2.5)            # Changing line width\n",
        "#specfiy axis labels\n",
        "plt.title(\"Covid-19 Death in United States 2021\", fontsize = 18)   # Adding a Title. Changing font size of title\n",
        "plt. xlabel(\"Week in 2021\", fontsize = 12)                         # Adding x-axis label. Changing font size of label\n",
        "plt. ylabel(\"Covid-19 Death Total\", fontsize = 12)                 # Adding y-axis label. Changing font size of label"
      ],
      "metadata": {
        "colab": {
          "base_uri": "https://localhost:8080/",
          "height": 323
        },
        "id": "ORmxxbwJ4J-B",
        "outputId": "2ad941b3-2f36-4238-966c-6e8eb4483a40"
      },
      "execution_count": 67,
      "outputs": [
        {
          "output_type": "execute_result",
          "data": {
            "text/plain": [
              "Text(0, 0.5, 'Covid-19 Death Total')"
            ]
          },
          "metadata": {},
          "execution_count": 67
        },
        {
          "output_type": "display_data",
          "data": {
            "text/plain": [
              "<Figure size 432x288 with 1 Axes>"
            ],
            "image/png": "[encoded data removed]"
          },
          "metadata": {}
        }
      ]
    },
    {
      "cell_type": "code",
      "source": [
        "#Using Seaborn to plot a bar graph (Comparing it to the Matplotlib graph)\n",
        "sns.barplot(data = df_US_2021,                                                  # Calls data frame: Note the data frame call was not the transformed data frame df_US_2021_byorigin\n",
        "            x = 'COVID-19 Deaths',                                              # Calls x values\n",
        "            y = 'Race and Hispanic Origin Group',                               # Calls y values\n",
        "            estimator = sum,                                                    # Summing Covid Death by Race and Hispanic Origin Group (without having to transform data)\n",
        "            ci = None,                                                          # Hiding errorbars with method ci\n",
        "            order = [\"White\", \"Hispanic\", \"Black\", \"Asian\", \"American Indian\"]) # Manually ordering graph. Was also able to remove some races \n",
        "plt.title(\"Covid-19 Death By Race in 2021\", fontsize = 18)   # Adding a Title. Changing font size of title\n",
        "plt. xlabel(\"Covid-19 Death Total\", fontsize = 12)           # Adding x-axis label. Changing font size of label\n",
        "plt. ylabel(\"\")                                              # Removing y-axis label. "
      ],
      "metadata": {
        "colab": {
          "base_uri": "https://localhost:8080/",
          "height": 323
        },
        "id": "kPzBffm6AAe7",
        "outputId": "f4bb4fd7-406b-4831-9c27-2d9021c8af98"
      },
      "execution_count": 84,
      "outputs": [
        {
          "output_type": "execute_result",
          "data": {
            "text/plain": [
              "Text(0, 0.5, '')"
            ]
          },
          "metadata": {},
          "execution_count": 84
        },
        {
          "output_type": "display_data",
          "data": {
            "text/plain": [
              "<Figure size 432x288 with 1 Axes>"
            ],
            "image/png": "[encoded data removed]"
          },
          "metadata": {}
        }
      ]
    },
    {
      "cell_type": "markdown",
      "source": [],
      "metadata": {
        "id": "vFa4bNTyDbzb"
      }
    },
    {
      "cell_type": "markdown",
      "source": [
        "# Conclusions  \n",
        "\n",
        "After exploring your dataset, provide a short summary of what you noticed from this dataset.  \n",
        "\n",
        ">> Matplotlib and Seaborn are useful python packages to create easily readable visualization of data frame information. The biggest difference I found between the two was that with Seaborn can be used with little transforming data where Matplotlib needs data transformation before plotting. I can see Seaborn being the most useful visualizer when using data frames, it was created for that direct reason. However, there is a learning curve to understand all the way in which you can visualize the data directly from the Seaborn plot mechanisms. In this assignment, the data exploration was used to determine if data types where string or numeric when appropriate. The data wrangling was driven directly by what visualization was created. "
      ],
      "metadata": {
        "id": "tujjevRpXEen"
      }
    }
  ]
}